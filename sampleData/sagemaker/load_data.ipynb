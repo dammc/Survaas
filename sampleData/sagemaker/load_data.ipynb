{
 "cells": [
  {
   "cell_type": "code",
   "execution_count": null,
   "id": "c71e7784-09b7-45a2-8d67-3c6986447a60",
   "metadata": {},
   "outputs": [],
   "source": [
    "!pip install pymysql\n",
    "import pymysql\n",
    "import boto3\n",
    "import json\n",
    "import pandas as pd\n",
    "from IPython.display import display\n",
    "\n",
    "def get_secret_name_from_ssm(ssm_param_name: str):\n",
    "    \"\"\"retrive secret name from ssm parameter\"\"\"\n",
    "    # create ssm client\n",
    "    client = boto3.client('ssm')\n",
    "\n",
    "    # get db parameter\n",
    "    secret_name = client.get_parameter(Name=ssm_param_name)['Parameter']['Value']\n",
    "\n",
    "    return secret_name\n",
    "\n",
    "def get_secret(secret_name, region_name):\n",
    "    \"\"\"Retrieve RDS database credentials from AWS Secrets Manager.\"\"\"\n",
    "    # Create a Secrets Manager client\n",
    "    client = boto3.client('secretsmanager', region_name=region_name)\n",
    "\n",
    "    try:\n",
    "        # Get the secret value from Secrets Manager\n",
    "        response = client.get_secret_value(SecretId=secret_name)\n",
    "\n",
    "        # Secrets Manager returns the secret as a JSON string, parse it\n",
    "        secret = json.loads(response['SecretString'])\n",
    "        return secret\n",
    "\n",
    "    except Exception as e:\n",
    "        print(f\"Error retrieving secret: {e}\")\n",
    "        raise"
   ]
  },
  {
   "cell_type": "code",
   "execution_count": null,
   "id": "88fa72fe-4b55-4edb-83cb-422a51aad4f9",
   "metadata": {},
   "outputs": [],
   "source": [
    "def get_rds_endpoint(rds_instance_identifier):\n",
    "    \"\"\"Retrieve RDS instance endpoint from AWS RDS.\"\"\"\n",
    "    rds_client = boto3.client('rds')\n",
    "    response = rds_client.describe_db_clusters(\n",
    "        DBClusterIdentifier=rds_instance_identifier\n",
    "    )\n",
    "    endpoint = response['DBClusters'][0]['Endpoint']\n",
    "    return endpoint"
   ]
  },
  {
   "cell_type": "code",
   "execution_count": null,
   "id": "d05104e1-28fd-40f3-b1ac-96ccf8da06ff",
   "metadata": {},
   "outputs": [],
   "source": [
    "# AWS RDS connection details\n",
    "rds_instance_identifier = 'survaasdefault-db'\n",
    "rds_endpoint = get_rds_endpoint(rds_instance_identifier)\n",
    "database_name = 'SurvaasDefaultDb'\n",
    "ssm_param_name = 'SurvaasDefaultDbSecretArn'\n",
    "region = boto3.session.Session().region_name\n",
    "username = get_secret(get_secret_name_from_ssm(ssm_param_name), region)[\"username\"]\n",
    "password = get_secret(get_secret_name_from_ssm(ssm_param_name), region)[\"password\"]\n",
    "table_name = 'customer_sample_data'"
   ]
  },
  {
   "cell_type": "code",
   "execution_count": null,
   "id": "69149d7e-2b69-4bc7-88ca-235780e24fbb",
   "metadata": {},
   "outputs": [],
   "source": [
    "# Load the dataset\n",
    "file_path = \"extended_survey_dataset.csv\"\n",
    "data = pd.read_csv(file_path)"
   ]
  },
  {
   "cell_type": "code",
   "execution_count": null,
   "id": "cded8dde-f672-471a-874d-799ff69cb958",
   "metadata": {},
   "outputs": [],
   "source": [
    "# Connect to the RDS MySQL database\n",
    "connection = pymysql.connect(\n",
    "    host=rds_endpoint,\n",
    "    user=username,\n",
    "    password=password,\n",
    "    database=database_name,\n",
    "    port=3306,\n",
    "    charset=\"utf8mb4\",\n",
    "    cursorclass=pymysql.cursors.DictCursor\n",
    ")"
   ]
  },
  {
   "cell_type": "code",
   "execution_count": null,
   "id": "f0cbd32b-78a3-41db-a8ba-5dd7e8fc009f",
   "metadata": {},
   "outputs": [],
   "source": [
    "# Create a table (if it doesn't exist)\n",
    "create_table_query = f\"\"\"\n",
    "CREATE TABLE IF NOT EXISTS {table_name} (\n",
    "    RespondentID INT PRIMARY KEY,\n",
    "    Age INT,\n",
    "    Gender TINYINT,\n",
    "    LikesProductA INT,\n",
    "    LikesProductB INT,\n",
    "    PrefersOnlineShopping INT,\n",
    "    ValuesDiscounts INT,\n",
    "    BrandLoyalty INT,\n",
    "    WillRecommend INT,\n",
    "    OverallSatisfaction INT,\n",
    "    TechSavviness INT,\n",
    "    EnvironmentalConcern INT\n",
    ");\n",
    "\"\"\""
   ]
  },
  {
   "cell_type": "code",
   "execution_count": null,
   "id": "9cf00540-2233-4435-882c-533e17047ff2",
   "metadata": {},
   "outputs": [],
   "source": [
    "# Insert data into the table\n",
    "try:\n",
    "    with connection.cursor() as cursor:\n",
    "        # Create table\n",
    "        cursor.execute(create_table_query)\n",
    "        connection.commit()\n",
    "\n",
    "        # Insert data row by row\n",
    "        insert_query = f\"\"\"\n",
    "        INSERT INTO {table_name} (\n",
    "            RespondentID, Age, Gender, LikesProductA, LikesProductB,\n",
    "            PrefersOnlineShopping, ValuesDiscounts, BrandLoyalty,\n",
    "            WillRecommend, OverallSatisfaction, TechSavviness, EnvironmentalConcern\n",
    "        ) VALUES (%s, %s, %s, %s, %s, %s, %s, %s, %s, %s, %s, %s);\n",
    "        \"\"\"\n",
    "        for _, row in data.iterrows():\n",
    "            cursor.execute(insert_query, tuple(row))\n",
    "        connection.commit()\n",
    "        print(\"Data successfully inserted into the RDS database.\")\n",
    "finally:\n",
    "    connection.close()"
   ]
  },
  {
   "cell_type": "code",
   "execution_count": null,
   "id": "96dff31f-6638-4401-bce1-19b2734b3b19",
   "metadata": {},
   "outputs": [],
   "source": []
  }
 ],
 "metadata": {
  "kernelspec": {
   "display_name": "Python 3 (ipykernel)",
   "language": "python",
   "name": "python3"
  },
  "language_info": {
   "codemirror_mode": {
    "name": "ipython",
    "version": 3
   },
   "file_extension": ".py",
   "mimetype": "text/x-python",
   "name": "python",
   "nbconvert_exporter": "python",
   "pygments_lexer": "ipython3",
   "version": "3.11.11"
  }
 },
 "nbformat": 4,
 "nbformat_minor": 5
}
